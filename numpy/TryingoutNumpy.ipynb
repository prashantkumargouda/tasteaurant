{
 "cells": [
  {
   "cell_type": "code",
   "execution_count": 2,
   "id": "5c8ff22d-d5e3-40c5-9bb8-7dcc4c8c4c5c",
   "metadata": {},
   "outputs": [],
   "source": [
    "import numpy as np \n",
    "import sys "
   ]
  },
  {
   "cell_type": "code",
   "execution_count": 3,
   "id": "7ccb7dfe-20a8-46c3-aae6-35923ac4e380",
   "metadata": {},
   "outputs": [
    {
     "name": "stdout",
     "output_type": "stream",
     "text": [
      "[1 2 3]\n"
     ]
    }
   ],
   "source": [
    "a = np.array([1,2,3]) \n",
    "print(a)"
   ]
  },
  {
   "cell_type": "code",
   "execution_count": 4,
   "id": "212e9557-28be-4223-80ce-87d46c8a882a",
   "metadata": {},
   "outputs": [
    {
     "name": "stdout",
     "output_type": "stream",
     "text": [
      "[[1 2 3]\n",
      " [2 3 4]]\n"
     ]
    }
   ],
   "source": [
    "b = np.array([[1,2,3] , [2,3,4]]) \n",
    "print(b) "
   ]
  },
  {
   "cell_type": "code",
   "execution_count": 5,
   "id": "bb77b132-63e2-4696-8912-8a3608a0cc60",
   "metadata": {},
   "outputs": [
    {
     "data": {
      "text/plain": [
       "1"
      ]
     },
     "execution_count": 5,
     "metadata": {},
     "output_type": "execute_result"
    }
   ],
   "source": [
    "a.ndim "
   ]
  },
  {
   "cell_type": "code",
   "execution_count": 6,
   "id": "c907acb1-4d30-4141-8452-f80642bc9fb4",
   "metadata": {},
   "outputs": [
    {
     "data": {
      "text/plain": [
       "(3,)"
      ]
     },
     "execution_count": 6,
     "metadata": {},
     "output_type": "execute_result"
    }
   ],
   "source": [
    "a.shape "
   ]
  },
  {
   "cell_type": "code",
   "execution_count": 7,
   "id": "080a881e-0a3a-40cd-9bf6-d7922fadce8d",
   "metadata": {},
   "outputs": [
    {
     "data": {
      "text/plain": [
       "(2, 3)"
      ]
     },
     "execution_count": 7,
     "metadata": {},
     "output_type": "execute_result"
    }
   ],
   "source": [
    "b.shape "
   ]
  },
  {
   "cell_type": "code",
   "execution_count": 8,
   "id": "f8d7b2f2-3056-4f5a-be44-d94250bebc0b",
   "metadata": {},
   "outputs": [
    {
     "name": "stdout",
     "output_type": "stream",
     "text": [
      "[[0. 0. 0.]\n",
      " [0. 0. 0.]]\n"
     ]
    }
   ],
   "source": [
    "zeros = np.zeros((2,3)) \n",
    "print(zeros) "
   ]
  },
  {
   "cell_type": "code",
   "execution_count": 9,
   "id": "f6c0bec3-6d8c-44a1-a462-e2f0b208bcb9",
   "metadata": {},
   "outputs": [
    {
     "name": "stdout",
     "output_type": "stream",
     "text": [
      "[1.         1.36363636 1.72727273 2.09090909 2.45454545 2.81818182\n",
      " 3.18181818 3.54545455 3.90909091 4.27272727 4.63636364 5.        ]\n"
     ]
    }
   ],
   "source": [
    "lspace = np.linspace(1,5,12) \n",
    "print(lspace) "
   ]
  },
  {
   "cell_type": "code",
   "execution_count": 10,
   "id": "42b619c3-9e7e-44b1-98d3-88b01f9c2aa2",
   "metadata": {},
   "outputs": [
    {
     "name": "stdout",
     "output_type": "stream",
     "text": [
      "[[ 6.95261690e-310  6.95256872e-310  0.00000000e+000  2.03711596e-312\n",
      "   9.99940259e-312  4.94065646e-324]\n",
      " [ 0.00000000e+000  0.00000000e+000  4.04738577e-320  0.00000000e+000\n",
      "   1.23022346e-321  9.99973467e-312]\n",
      " [-3.42843178e+186  0.00000000e+000  0.00000000e+000  9.99973469e-312\n",
      "   3.06320700e-322  0.00000000e+000]\n",
      " [ 0.00000000e+000  0.00000000e+000  0.00000000e+000  0.00000000e+000\n",
      "   4.94065646e-324              nan]]\n"
     ]
    }
   ],
   "source": [
    "emp = np.empty((4,6))  \n",
    "print(emp) "
   ]
  },
  {
   "cell_type": "markdown",
   "id": "23bf94ff-b916-432c-97cf-1bec37c3a42b",
   "metadata": {},
   "source": [
    "**created an empty array with elements of lspace** "
   ]
  },
  {
   "cell_type": "code",
   "execution_count": 11,
   "id": "925ec8a6-32fd-4072-85dc-3cdc8dca82b0",
   "metadata": {},
   "outputs": [
    {
     "name": "stdout",
     "output_type": "stream",
     "text": [
      "[6.95261690e-310 6.95256872e-310 2.03711596e-312 9.99940259e-312\n",
      " 4.94065646e-324 4.04738577e-320 1.23022346e-321 9.99973467e-312\n",
      " 3.42843178e+186 9.99973469e-312 3.06320700e-322 4.94065646e-324]\n"
     ]
    }
   ],
   "source": [
    "emp_like = np.empty_like(lspace) \n",
    "print(emp_like) "
   ]
  },
  {
   "cell_type": "code",
   "execution_count": 12,
   "id": "1a942c67-69cd-41e2-9f23-1a0abdcb80ff",
   "metadata": {},
   "outputs": [
    {
     "name": "stdout",
     "output_type": "stream",
     "text": [
      "[[1. 0. 0. ... 0. 0. 0.]\n",
      " [0. 1. 0. ... 0. 0. 0.]\n",
      " [0. 0. 1. ... 0. 0. 0.]\n",
      " ...\n",
      " [0. 0. 0. ... 1. 0. 0.]\n",
      " [0. 0. 0. ... 0. 1. 0.]\n",
      " [0. 0. 0. ... 0. 0. 1.]]\n"
     ]
    }
   ],
   "source": [
    "ide = np.identity(45) \n",
    "print(ide) "
   ]
  },
  {
   "cell_type": "code",
   "execution_count": 13,
   "id": "bbdc3a66-a867-4b08-adde-71851ba9a6eb",
   "metadata": {},
   "outputs": [
    {
     "name": "stdout",
     "output_type": "stream",
     "text": [
      "[ 0  1  2  3  4  5  6  7  8  9 10 11 12 13 14 15 16 17 18 19 20 21 22 23\n",
      " 24 25 26 27 28 29 30 31 32 33 34 35 36 37 38 39 40 41 42 43 44 45 46 47\n",
      " 48 49 50 51 52 53 54 55 56 57 58 59 60 61 62 63 64 65 66 67 68 69 70 71\n",
      " 72 73 74 75 76 77 78 79 80 81 82 83 84 85 86 87 88 89 90 91 92 93 94 95\n",
      " 96 97 98]\n"
     ]
    }
   ],
   "source": [
    "arr = np.arange(99) # creates an array from 0 to 98 with 99 elements \n",
    "print(arr) \n"
   ]
  },
  {
   "cell_type": "code",
   "execution_count": 14,
   "id": "d8964886-9fcf-44d7-a696-927532f442c3",
   "metadata": {},
   "outputs": [
    {
     "name": "stdout",
     "output_type": "stream",
     "text": [
      "[[ 0  1  2  3  4  5  6  7  8  9 10 11 12 13 14 15 16 17 18 19 20 21 22 23\n",
      "  24 25 26 27 28 29 30 31 32]\n",
      " [33 34 35 36 37 38 39 40 41 42 43 44 45 46 47 48 49 50 51 52 53 54 55 56\n",
      "  57 58 59 60 61 62 63 64 65]\n",
      " [66 67 68 69 70 71 72 73 74 75 76 77 78 79 80 81 82 83 84 85 86 87 88 89\n",
      "  90 91 92 93 94 95 96 97 98]]\n"
     ]
    }
   ],
   "source": [
    "arr = arr.reshape(3 ,33 ) \n",
    "print(arr) "
   ]
  },
  {
   "cell_type": "code",
   "execution_count": 15,
   "id": "7706c857-fd19-4fab-b7dd-6f0cfda80987",
   "metadata": {},
   "outputs": [
    {
     "name": "stdout",
     "output_type": "stream",
     "text": [
      "[ 0  1  2  3  4  5  6  7  8  9 10 11 12 13 14 15 16 17 18 19 20 21 22 23\n",
      " 24 25 26 27 28 29 30 31 32 33 34 35 36 37 38 39 40 41 42 43 44 45 46 47\n",
      " 48 49 50 51 52 53 54 55 56 57 58 59 60 61 62 63 64 65 66 67 68 69 70 71\n",
      " 72 73 74 75 76 77 78 79 80 81 82 83 84 85 86 87 88 89 90 91 92 93 94 95\n",
      " 96 97 98]\n"
     ]
    }
   ],
   "source": [
    "arr = arr.ravel()\n",
    "print(arr) "
   ]
  },
  {
   "cell_type": "code",
   "execution_count": 16,
   "id": "8d922e78-96db-41c3-a5c3-6d81b9d5a9be",
   "metadata": {},
   "outputs": [
    {
     "name": "stdout",
     "output_type": "stream",
     "text": [
      "[[1 2 3]\n",
      " [4 5 6]\n",
      " [7 0 1]]\n"
     ]
    }
   ],
   "source": [
    "x = np.array([[1,2,3] , [4,5,6] , [7,0,1]]) \n",
    "print(x) "
   ]
  },
  {
   "cell_type": "code",
   "execution_count": 17,
   "id": "ab96f0bd-2fd5-4e4d-b38b-3f9b2cc5b385",
   "metadata": {},
   "outputs": [
    {
     "name": "stdout",
     "output_type": "stream",
     "text": [
      "[12  7 10]\n"
     ]
    }
   ],
   "source": [
    "print(x.sum(axis = 0)) "
   ]
  },
  {
   "cell_type": "code",
   "execution_count": 18,
   "id": "11f0eac4-a517-4045-800a-3e8a5235ad81",
   "metadata": {},
   "outputs": [
    {
     "name": "stdout",
     "output_type": "stream",
     "text": [
      "[ 6 15  8]\n"
     ]
    }
   ],
   "source": [
    "print(x.sum(axis = 1)) \n"
   ]
  },
  {
   "cell_type": "code",
   "execution_count": 19,
   "id": "21bde7b2-b46a-402b-8f13-f3ee12e5af9c",
   "metadata": {},
   "outputs": [
    {
     "name": "stdout",
     "output_type": "stream",
     "text": [
      "[[1 4 7]\n",
      " [2 5 0]\n",
      " [3 6 1]]\n"
     ]
    }
   ],
   "source": [
    "print(x.T) "
   ]
  },
  {
   "cell_type": "code",
   "execution_count": 20,
   "id": "9712d8d9-d2e8-4f14-bebc-b1ce3183b9f8",
   "metadata": {},
   "outputs": [
    {
     "name": "stdout",
     "output_type": "stream",
     "text": [
      "[[1 4 7]\n",
      " [2 5 0]\n",
      " [3 6 1]]\n"
     ]
    }
   ],
   "source": [
    "print(x.T) "
   ]
  },
  {
   "cell_type": "code",
   "execution_count": 21,
   "id": "12c428fb-9ced-4f03-a446-8b93b0d27050",
   "metadata": {},
   "outputs": [
    {
     "data": {
      "text/plain": [
       "<numpy.flatiter at 0x1d74020a8e0>"
      ]
     },
     "execution_count": 21,
     "metadata": {},
     "output_type": "execute_result"
    }
   ],
   "source": [
    "x.flat "
   ]
  },
  {
   "cell_type": "code",
   "execution_count": 22,
   "id": "1626584b-54f5-48e7-a195-7be6212194c5",
   "metadata": {},
   "outputs": [
    {
     "name": "stdout",
     "output_type": "stream",
     "text": [
      "1\n",
      "2\n",
      "3\n",
      "4\n",
      "5\n",
      "6\n",
      "7\n",
      "0\n",
      "1\n"
     ]
    }
   ],
   "source": [
    "for item in x.flat : # this flat thing gives you a flat array out of an dimensional array \n",
    "    print(item) "
   ]
  },
  {
   "cell_type": "code",
   "execution_count": 23,
   "id": "52b71d48-73d1-49ad-adfd-c2d72077cefe",
   "metadata": {},
   "outputs": [
    {
     "name": "stdout",
     "output_type": "stream",
     "text": [
      "<numpy.flatiter object at 0x000001D740203560>\n"
     ]
    }
   ],
   "source": [
    "print(x.flat) "
   ]
  },
  {
   "cell_type": "code",
   "execution_count": 24,
   "id": "d96352aa-5727-429d-b9f0-43f2f624e006",
   "metadata": {},
   "outputs": [
    {
     "name": "stdout",
     "output_type": "stream",
     "text": [
      "[  1   3   4 643   2]\n"
     ]
    }
   ],
   "source": [
    "one = np.array( [1,3,4,643,2]) \n",
    "print(one) "
   ]
  },
  {
   "cell_type": "code",
   "execution_count": 25,
   "id": "efc08370-a2ae-4ec3-8460-33799c1960bb",
   "metadata": {},
   "outputs": [
    {
     "data": {
      "text/plain": [
       "3"
      ]
     },
     "execution_count": 25,
     "metadata": {},
     "output_type": "execute_result"
    }
   ],
   "source": [
    "one.argmax()  # gives you index for the max element and min with argmin "
   ]
  },
  {
   "cell_type": "code",
   "execution_count": 26,
   "id": "b3e9177b-8632-4764-8c91-b235c63849c8",
   "metadata": {},
   "outputs": [
    {
     "data": {
      "text/plain": [
       "0"
      ]
     },
     "execution_count": 26,
     "metadata": {},
     "output_type": "execute_result"
    }
   ],
   "source": [
    "one.argmin() "
   ]
  },
  {
   "cell_type": "code",
   "execution_count": 27,
   "id": "086e6289-7a42-4ae0-a108-6719e685db61",
   "metadata": {},
   "outputs": [
    {
     "name": "stdout",
     "output_type": "stream",
     "text": [
      "[[1 2 3]\n",
      " [4 5 6]\n",
      " [7 0 1]]\n"
     ]
    }
   ],
   "source": [
    "one = np.array([[1,2,3] , [4,5,6] , [7,0,1] ]) \n",
    "print(one) "
   ]
  },
  {
   "cell_type": "code",
   "execution_count": 28,
   "id": "5f06cc58-f994-42cf-86ce-08065a0b7b5d",
   "metadata": {},
   "outputs": [
    {
     "name": "stdout",
     "output_type": "stream",
     "text": [
      "[2 2 0]\n"
     ]
    }
   ],
   "source": [
    "print(one.argmax(axis = 1 )) "
   ]
  },
  {
   "cell_type": "code",
   "execution_count": 29,
   "id": "10d4ca9f-0936-478b-8a38-12ff31b5e59a",
   "metadata": {},
   "outputs": [
    {
     "name": "stdout",
     "output_type": "stream",
     "text": [
      "[0 2 2]\n"
     ]
    }
   ],
   "source": [
    "print(one.argmin(axis = 0)) "
   ]
  },
  {
   "cell_type": "code",
   "execution_count": 30,
   "id": "548d45bb-c276-45f6-a0c8-f3f6a27d3577",
   "metadata": {},
   "outputs": [
    {
     "name": "stdout",
     "output_type": "stream",
     "text": [
      "(array([1, 2], dtype=int64), array([2, 0], dtype=int64))\n"
     ]
    }
   ],
   "source": [
    "print(np.where(one > 5) )\n"
   ]
  },
  {
   "cell_type": "code",
   "execution_count": 31,
   "id": "1bb05fd2-f75f-443f-859c-633ec5d258d1",
   "metadata": {},
   "outputs": [
    {
     "name": "stdout",
     "output_type": "stream",
     "text": [
      "12\n",
      "84\n"
     ]
    }
   ],
   "source": [
    "arr = [1,2,3] \n",
    "nu_arr = np.array([1,2,3]) \n",
    "\n",
    "print(nu_arr.itemsize * nu_arr.size  )\n",
    "print( sys.getsizeof(1) * len(arr) ) "
   ]
  },
  {
   "cell_type": "code",
   "execution_count": 32,
   "id": "e726603f-7a88-482f-9276-45c20e3660d1",
   "metadata": {},
   "outputs": [
    {
     "name": "stdout",
     "output_type": "stream",
     "text": [
      "[[ 1  2  3  4  5  6]\n",
      " [ 7  8  9 10 11 12]]\n"
     ]
    }
   ],
   "source": [
    "arr = np.array([[1,2,3,4,5,6] , [7,8,9,10,11,12]] )  \n",
    "print(arr) "
   ]
  },
  {
   "cell_type": "code",
   "execution_count": 33,
   "id": "6caf0168-a9d0-4d01-9491-211dd468e526",
   "metadata": {},
   "outputs": [
    {
     "data": {
      "text/plain": [
       "9"
      ]
     },
     "execution_count": 33,
     "metadata": {},
     "output_type": "execute_result"
    }
   ],
   "source": [
    "arr[ 1 , 2 ] "
   ]
  },
  {
   "cell_type": "code",
   "execution_count": 34,
   "id": "24d14817-6702-4d9d-874d-22aeca8e1590",
   "metadata": {},
   "outputs": [
    {
     "data": {
      "text/plain": [
       "array([1, 2, 3, 4, 5, 6])"
      ]
     },
     "execution_count": 34,
     "metadata": {},
     "output_type": "execute_result"
    }
   ],
   "source": [
    "arr[0 , :] "
   ]
  },
  {
   "cell_type": "code",
   "execution_count": 35,
   "id": "db7a96b7-6893-4971-8068-c3ec188027a8",
   "metadata": {},
   "outputs": [
    {
     "data": {
      "text/plain": [
       "array([2, 8])"
      ]
     },
     "execution_count": 35,
     "metadata": {},
     "output_type": "execute_result"
    }
   ],
   "source": [
    "arr[ :  , 1 ] "
   ]
  },
  {
   "cell_type": "code",
   "execution_count": 36,
   "id": "57eac5f5-6a81-4e3c-9472-49be3562837a",
   "metadata": {},
   "outputs": [
    {
     "name": "stdout",
     "output_type": "stream",
     "text": [
      "[[ 3  4  5]\n",
      " [ 9 10 11]]\n"
     ]
    }
   ],
   "source": [
    "print(arr[: , 2 : 5 ]) "
   ]
  },
  {
   "cell_type": "code",
   "execution_count": 37,
   "id": "5054a045-ef87-47fa-822d-171694def247",
   "metadata": {},
   "outputs": [
    {
     "name": "stdout",
     "output_type": "stream",
     "text": [
      "[1 2 3 4 5 6]\n"
     ]
    }
   ],
   "source": [
    "print(arr[0 , :]) "
   ]
  },
  {
   "cell_type": "code",
   "execution_count": 38,
   "id": "a0e4d0c0-eae9-44c0-9411-578c7af8f6dd",
   "metadata": {},
   "outputs": [
    {
     "name": "stdout",
     "output_type": "stream",
     "text": [
      "[2 4 6]\n"
     ]
    }
   ],
   "source": [
    "print(arr[ 0 , 1 : 6 : 2]) \n"
   ]
  },
  {
   "cell_type": "code",
   "execution_count": 39,
   "id": "e229f4ca-e2f9-4de2-b3df-7c777ffa916b",
   "metadata": {},
   "outputs": [
    {
     "data": {
      "text/plain": [
       "array([1, 3, 5])"
      ]
     },
     "execution_count": 39,
     "metadata": {},
     "output_type": "execute_result"
    }
   ],
   "source": [
    "arr[ 0 , 0 : 5 : 2 ] "
   ]
  },
  {
   "cell_type": "code",
   "execution_count": 40,
   "id": "f3282d46-18a6-4d8c-8c78-a15722a286af",
   "metadata": {},
   "outputs": [
    {
     "name": "stdout",
     "output_type": "stream",
     "text": [
      "[[ 3  5]\n",
      " [ 9 11]]\n"
     ]
    }
   ],
   "source": [
    "print(arr[ : , 2:6:2 ])"
   ]
  },
  {
   "cell_type": "code",
   "execution_count": 41,
   "id": "d0a3f055-6b87-4652-8fff-148e4bb50c31",
   "metadata": {},
   "outputs": [
    {
     "name": "stdout",
     "output_type": "stream",
     "text": [
      "[[ 2  4  6]\n",
      " [ 8 10 12]]\n"
     ]
    }
   ],
   "source": [
    "print(arr[ : , 1: 6:2] ) "
   ]
  },
  {
   "cell_type": "code",
   "execution_count": 42,
   "id": "737aeca5-cccc-4f8b-be4b-6ad8a164195d",
   "metadata": {},
   "outputs": [
    {
     "name": "stdout",
     "output_type": "stream",
     "text": [
      "[[[1 2]\n",
      "  [3 4]]\n",
      "\n",
      " [[5 6]\n",
      "  [7 8]]]\n"
     ]
    }
   ],
   "source": [
    "arr = np.array([ [[1,2] , [3,4]]  , [[5,6],[7,8]] ])  \n",
    "print(arr) "
   ]
  },
  {
   "cell_type": "code",
   "execution_count": 43,
   "id": "8eba444b-1e7d-493c-95b1-e18e220b1e93",
   "metadata": {},
   "outputs": [
    {
     "name": "stdout",
     "output_type": "stream",
     "text": [
      "4\n"
     ]
    }
   ],
   "source": [
    "print(arr[0,1,1]) "
   ]
  },
  {
   "cell_type": "code",
   "execution_count": 67,
   "id": "7e8c5ecd-6ead-40a5-b970-9db238c55be7",
   "metadata": {},
   "outputs": [
    {
     "name": "stdout",
     "output_type": "stream",
     "text": [
      "[[[0. 0.]\n",
      "  [0. 0.]]\n",
      "\n",
      " [[0. 0.]\n",
      "  [0. 0.]]\n",
      "\n",
      " [[0. 0.]\n",
      "  [0. 0.]]\n",
      "\n",
      " [[0. 0.]\n",
      "  [0. 0.]]]\n"
     ]
    }
   ],
   "source": [
    "zeros = np.zeros((4 , 2 ,2)) \n",
    "print(zeros) "
   ]
  },
  {
   "cell_type": "code",
   "execution_count": 45,
   "id": "dff86abc-dc01-46c4-9b26-d0f695987260",
   "metadata": {},
   "outputs": [
    {
     "name": "stdout",
     "output_type": "stream",
     "text": [
      "[[[1 1]\n",
      "  [1 1]]\n",
      "\n",
      " [[1 1]\n",
      "  [1 1]]\n",
      "\n",
      " [[1 1]\n",
      "  [1 1]]\n",
      "\n",
      " [[1 1]\n",
      "  [1 1]]]\n"
     ]
    }
   ],
   "source": [
    "print(np.ones((4,2,2) , dtype = 'int32')) "
   ]
  },
  {
   "cell_type": "code",
   "execution_count": 69,
   "id": "409c5756-348b-43d4-80f7-0b7b4fd01a05",
   "metadata": {},
   "outputs": [
    {
     "data": {
      "text/plain": [
       "array([4, 4, 4])"
      ]
     },
     "execution_count": 69,
     "metadata": {},
     "output_type": "execute_result"
    }
   ],
   "source": [
    "np.full(b.shape , 4) "
   ]
  },
  {
   "cell_type": "code",
   "execution_count": 47,
   "id": "64766359-0832-4017-a8a6-365922694c89",
   "metadata": {},
   "outputs": [
    {
     "data": {
      "text/plain": [
       "array([[4, 4, 4],\n",
       "       [4, 4, 4]])"
      ]
     },
     "execution_count": 47,
     "metadata": {},
     "output_type": "execute_result"
    }
   ],
   "source": [
    "np.full_like( b , 4 )"
   ]
  },
  {
   "cell_type": "code",
   "execution_count": 48,
   "id": "9894ea9d-777f-407e-9549-e7179b73641f",
   "metadata": {},
   "outputs": [
    {
     "data": {
      "text/plain": [
       "array([[3, 3, 4],\n",
       "       [2, 5, 2],\n",
       "       [5, 4, 5]])"
      ]
     },
     "execution_count": 48,
     "metadata": {},
     "output_type": "execute_result"
    }
   ],
   "source": [
    "np.random.randint( 7 , size = (3,3)) #  np.random.randint( low , high , size ) so here low -> high -1 is the region and low default is 0 "
   ]
  },
  {
   "cell_type": "code",
   "execution_count": 72,
   "id": "4064e28a-a99b-4d5e-a505-de0a9a7ed335",
   "metadata": {},
   "outputs": [
    {
     "data": {
      "text/plain": [
       "array([[1., 0., 0.],\n",
       "       [0., 1., 0.],\n",
       "       [0., 0., 1.]])"
      ]
     },
     "execution_count": 72,
     "metadata": {},
     "output_type": "execute_result"
    }
   ],
   "source": [
    "np.identity(3)"
   ]
  },
  {
   "cell_type": "code",
   "execution_count": 53,
   "id": "1e11a0fb-229e-4cf9-8fb9-6d4c59d60f94",
   "metadata": {},
   "outputs": [
    {
     "name": "stdout",
     "output_type": "stream",
     "text": [
      "[[1 2 3]\n",
      " [1 2 3]\n",
      " [1 2 3]]\n"
     ]
    }
   ],
   "source": [
    "arr = np.array([[1,2,3]]) \n",
    "r1 = np.repeat( arr , 3 , axis = 0 ) \n",
    "print(r1) "
   ]
  },
  {
   "cell_type": "code",
   "execution_count": 70,
   "id": "41a85d6a-c9c9-4745-a7b1-de8b827a8183",
   "metadata": {},
   "outputs": [
    {
     "name": "stdout",
     "output_type": "stream",
     "text": [
      "[[1 1 1 2 2 2 3 3 3]]\n"
     ]
    }
   ],
   "source": [
    "r2 = np.repeat( arr , 3 , axis = 1 ) \n",
    "print(r2) "
   ]
  },
  {
   "cell_type": "code",
   "execution_count": 60,
   "id": "87f98cc9-382d-403c-a0cf-5eac451fc9b3",
   "metadata": {},
   "outputs": [
    {
     "name": "stdout",
     "output_type": "stream",
     "text": [
      "[[1. 1. 1. 1. 1.]\n",
      " [1. 1. 1. 1. 1.]\n",
      " [1. 1. 1. 1. 1.]\n",
      " [1. 1. 1. 1. 1.]\n",
      " [1. 1. 1. 1. 1.]]\n",
      "[[0. 0. 0.]\n",
      " [0. 0. 0.]\n",
      " [0. 0. 0.]]\n",
      "[[0. 0. 0.]\n",
      " [0. 9. 0.]\n",
      " [0. 0. 0.]]\n",
      "[[1. 1. 1. 1. 1.]\n",
      " [1. 0. 0. 0. 1.]\n",
      " [1. 0. 9. 0. 1.]\n",
      " [1. 0. 0. 0. 1.]\n",
      " [1. 1. 1. 1. 1.]]\n"
     ]
    }
   ],
   "source": [
    "output = np.ones((5,5)) \n",
    "print(output) \n",
    "\n",
    "z = np.zeros((3,3)) \n",
    "print(z) \n",
    "\n",
    "z[1,1] = 9 \n",
    "print(z) \n",
    "\n",
    "output[1:-1 , 1:-1] = z \n",
    "print(output) \n",
    "\n"
   ]
  },
  {
   "cell_type": "code",
   "execution_count": 66,
   "id": "8872fedb-e044-49fc-a98c-8617443761ca",
   "metadata": {},
   "outputs": [
    {
     "name": "stdout",
     "output_type": "stream",
     "text": [
      "[100   2   3]\n",
      "[1 2 3]\n"
     ]
    }
   ],
   "source": [
    "# BE CAREFUL WHILE COPYING ELEMENTS \n",
    "a = np.array([1,2,3]) \n",
    "b = a.copy() \n",
    "b[0] = 100 \n",
    "print(b)  \n",
    "print(a) "
   ]
  },
  {
   "cell_type": "code",
   "execution_count": 75,
   "id": "34557949-17e3-4989-8417-6b0f3021e96b",
   "metadata": {},
   "outputs": [
    {
     "data": {
      "text/plain": [
       "array([[6., 6.],\n",
       "       [6., 6.]])"
      ]
     },
     "execution_count": 75,
     "metadata": {},
     "output_type": "execute_result"
    }
   ],
   "source": [
    "a = np.ones((2,3)) \n",
    "\n",
    "b = np.full((3,2) , 2) \n",
    "\n",
    "np.matmul(a,b) "
   ]
  },
  {
   "cell_type": "code",
   "execution_count": 76,
   "id": "2f838aa8-30f5-45c5-ac50-3b5e5b997b70",
   "metadata": {},
   "outputs": [
    {
     "data": {
      "text/plain": [
       "1.0"
      ]
     },
     "execution_count": 76,
     "metadata": {},
     "output_type": "execute_result"
    }
   ],
   "source": [
    "c = np.identity(3)  \n",
    "np.linalg.det(c) "
   ]
  },
  {
   "cell_type": "code",
   "execution_count": 77,
   "id": "53beead5-084a-4d20-bd94-80183db06d4d",
   "metadata": {},
   "outputs": [
    {
     "name": "stdout",
     "output_type": "stream",
     "text": [
      "[[1 2 3]\n",
      " [4 5 6]]\n"
     ]
    }
   ],
   "source": [
    "stats = np.array([[1,2,3] , [4,5,6]]) \n",
    "print(stats) "
   ]
  },
  {
   "cell_type": "code",
   "execution_count": 78,
   "id": "aea0d77f-b259-47be-8b6d-f55f7dd8dfe0",
   "metadata": {},
   "outputs": [
    {
     "data": {
      "text/plain": [
       "1"
      ]
     },
     "execution_count": 78,
     "metadata": {},
     "output_type": "execute_result"
    }
   ],
   "source": [
    "stats.min() "
   ]
  },
  {
   "cell_type": "code",
   "execution_count": 79,
   "id": "3804a0cf-ab99-4f6f-a41f-66521690c99d",
   "metadata": {},
   "outputs": [
    {
     "data": {
      "text/plain": [
       "6"
      ]
     },
     "execution_count": 79,
     "metadata": {},
     "output_type": "execute_result"
    }
   ],
   "source": [
    "stats.max()  # this gives the value of that element "
   ]
  },
  {
   "cell_type": "code",
   "execution_count": 80,
   "id": "563907d3-ce3b-4e93-8316-5d984e93f1ec",
   "metadata": {},
   "outputs": [
    {
     "data": {
      "text/plain": [
       "5"
      ]
     },
     "execution_count": 80,
     "metadata": {},
     "output_type": "execute_result"
    }
   ],
   "source": [
    "stats.argmax() # argmax gives you the index for the maximum element "
   ]
  },
  {
   "cell_type": "code",
   "execution_count": 81,
   "id": "e0bf6d75-c2ab-4837-b25c-d4762f54c16f",
   "metadata": {},
   "outputs": [
    {
     "data": {
      "text/plain": [
       "6"
      ]
     },
     "execution_count": 81,
     "metadata": {},
     "output_type": "execute_result"
    }
   ],
   "source": [
    "np.max(stats) "
   ]
  },
  {
   "cell_type": "code",
   "execution_count": 84,
   "id": "18610a67-00df-4a8b-a7cb-10ecfdf56fcb",
   "metadata": {},
   "outputs": [
    {
     "data": {
      "text/plain": [
       "array([4, 5, 6])"
      ]
     },
     "execution_count": 84,
     "metadata": {},
     "output_type": "execute_result"
    }
   ],
   "source": [
    "np.max(stats , axis = 0) # max on each row / col "
   ]
  },
  {
   "cell_type": "code",
   "execution_count": 85,
   "id": "0e00547d-9074-477d-b010-2da57032fbd2",
   "metadata": {},
   "outputs": [
    {
     "data": {
      "text/plain": [
       "21"
      ]
     },
     "execution_count": 85,
     "metadata": {},
     "output_type": "execute_result"
    }
   ],
   "source": [
    "np.sum( stats )"
   ]
  },
  {
   "cell_type": "code",
   "execution_count": 86,
   "id": "d057e560-0ff2-4e23-9973-085525d441ed",
   "metadata": {},
   "outputs": [
    {
     "data": {
      "text/plain": [
       "array([ 6, 15])"
      ]
     },
     "execution_count": 86,
     "metadata": {},
     "output_type": "execute_result"
    }
   ],
   "source": [
    "np.sum(stats , axis = 1) "
   ]
  },
  {
   "cell_type": "code",
   "execution_count": 95,
   "id": "865f44f4-f8bd-42be-a8c1-2f8f92b26878",
   "metadata": {},
   "outputs": [
    {
     "name": "stdout",
     "output_type": "stream",
     "text": [
      "[[1 2 3 4]\n",
      " [5 6 7 8]]\n",
      "\n",
      "\n",
      "[[[1 2]\n",
      "  [3 4]]\n",
      "\n",
      " [[5 6]\n",
      "  [7 8]]]\n"
     ]
    }
   ],
   "source": [
    "before = np.array([[1,2,3,4] , [5,6,7,8]]) \n",
    "print(before) \n",
    "\n",
    "print(\"\\n\")\n",
    "\n",
    "after = before.reshape((2 , 2,2))\n",
    "print(after) "
   ]
  },
  {
   "cell_type": "code",
   "execution_count": 96,
   "id": "819bf008-62db-4175-bf64-26b12b1be5f9",
   "metadata": {},
   "outputs": [
    {
     "data": {
      "text/plain": [
       "array([[1, 2, 3, 4],\n",
       "       [4, 5, 6, 7]])"
      ]
     },
     "execution_count": 96,
     "metadata": {},
     "output_type": "execute_result"
    }
   ],
   "source": [
    "#vertically stacking vectors \n",
    "\n",
    "v1 = np.array([1,2,3,4]) \n",
    "v2 = np.array([4,5,6,7]) \n",
    "\n",
    "np.vstack([v1 , v2])  # v1 , v2 , v1 , v2 yeh bhi chal jayega bhai "
   ]
  },
  {
   "cell_type": "code",
   "execution_count": 98,
   "id": "d20f97c2-868e-48ad-b255-07fd3c6d587a",
   "metadata": {},
   "outputs": [
    {
     "data": {
      "text/plain": [
       "array([1., 1., 0., 0., 0.])"
      ]
     },
     "execution_count": 98,
     "metadata": {},
     "output_type": "execute_result"
    }
   ],
   "source": [
    "h1 = np.ones(2) \n",
    "h2 = np.zeros(3) \n",
    "\n",
    "np.hstack([h1 , h2]) "
   ]
  },
  {
   "cell_type": "code",
   "execution_count": 112,
   "id": "94c0584f-c2df-41e6-86db-35ab8593aa0c",
   "metadata": {},
   "outputs": [
    {
     "name": "stdout",
     "output_type": "stream",
     "text": [
      "[[1 2 3]\n",
      " [4 5 6]\n",
      " [7 8 9]]\n"
     ]
    }
   ],
   "source": [
    "filedata = np.genfromtxt(r\"C:\\code\\23JAVA\\data1.txt\" , delimiter = \",\" ) ;\n",
    "newdata = filedata.astype('int32') \n",
    "print(newdata) "
   ]
  },
  {
   "cell_type": "code",
   "execution_count": 115,
   "id": "cfb5b47c-1759-4646-9fbb-67536e6fdab4",
   "metadata": {},
   "outputs": [
    {
     "data": {
      "text/plain": [
       "array([[ True,  True,  True],\n",
       "       [ True, False, False],\n",
       "       [False, False, False]])"
      ]
     },
     "execution_count": 115,
     "metadata": {},
     "output_type": "execute_result"
    }
   ],
   "source": [
    "filedata < 5"
   ]
  },
  {
   "cell_type": "code",
   "execution_count": 117,
   "id": "13b1d8f2-97e7-457d-8bff-95448ba01e78",
   "metadata": {},
   "outputs": [
    {
     "data": {
      "text/plain": [
       "array([1., 2., 3., 4., 5., 6., 7., 8., 9.])"
      ]
     },
     "execution_count": 117,
     "metadata": {},
     "output_type": "execute_result"
    }
   ],
   "source": [
    "filedata[filedata < 10] "
   ]
  },
  {
   "cell_type": "code",
   "execution_count": null,
   "id": "6472e284-21db-49b0-9c5f-f680a90beb49",
   "metadata": {},
   "outputs": [],
   "source": []
  }
 ],
 "metadata": {
  "kernelspec": {
   "display_name": "Python 3 (ipykernel)",
   "language": "python",
   "name": "python3"
  },
  "language_info": {
   "codemirror_mode": {
    "name": "ipython",
    "version": 3
   },
   "file_extension": ".py",
   "mimetype": "text/x-python",
   "name": "python",
   "nbconvert_exporter": "python",
   "pygments_lexer": "ipython3",
   "version": "3.12.10"
  }
 },
 "nbformat": 4,
 "nbformat_minor": 5
}
